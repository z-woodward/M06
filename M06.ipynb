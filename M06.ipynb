{
 "cells": [
  {
   "cell_type": "code",
   "execution_count": 1,
   "id": "31d59c27",
   "metadata": {},
   "outputs": [
    {
     "name": "stdout",
     "output_type": "stream",
     "text": [
      "2023-12-02\n"
     ]
    }
   ],
   "source": [
    "#ZacharyW - 13.1 Write the current date as a string to the text file today.txt\n",
    "\n",
    "from datetime import date\n",
    "now = date.today()\n",
    "today = str(now)\n",
    "\n",
    "f = open('C:/Users/Zachary/Desktop/M06/today.txt','w')\n",
    "f.write(today)\n",
    "f.close()\n",
    "print(today)"
   ]
  },
  {
   "cell_type": "code",
   "execution_count": 2,
   "id": "409baef8",
   "metadata": {},
   "outputs": [
    {
     "name": "stdout",
     "output_type": "stream",
     "text": [
      "['2023-12-02']\n"
     ]
    }
   ],
   "source": [
    "#ZacharyW - 13.2 Read the text file today.txt into the string today_string.\n",
    "\n",
    "today = open(\"today.txt\",'r')\n",
    "today_str = today.readlines()\n",
    "print(today_str)"
   ]
  },
  {
   "cell_type": "code",
   "execution_count": 3,
   "id": "c88c4f13",
   "metadata": {},
   "outputs": [
    {
     "name": "stdout",
     "output_type": "stream",
     "text": [
      "['2023-12-02']\n",
      "Month:  12\n",
      "Day:  02\n",
      "Year:  2023\n"
     ]
    }
   ],
   "source": [
    "#ZacharyW - 13.3 Parse the date from today_string.\n",
    "\n",
    "today = open(\"today.txt\",'r')\n",
    "today_str = today.readlines()\n",
    "print(today_str)\n",
    "\n",
    "date = (today_str[0])\n",
    "today = date.split('-')\n",
    "\n",
    "def printdate():\n",
    "    print(\"Month: \", today[1])\n",
    "    print(\"Day: \", today[2])\n",
    "    print(\"Year: \", today[0])\n",
    "\n",
    "printdate()"
   ]
  },
  {
   "cell_type": "code",
   "execution_count": null,
   "id": "f2b1b676",
   "metadata": {},
   "outputs": [],
   "source": []
  }
 ],
 "metadata": {
  "kernelspec": {
   "display_name": "Python 3 (ipykernel)",
   "language": "python",
   "name": "python3"
  },
  "language_info": {
   "codemirror_mode": {
    "name": "ipython",
    "version": 3
   },
   "file_extension": ".py",
   "mimetype": "text/x-python",
   "name": "python",
   "nbconvert_exporter": "python",
   "pygments_lexer": "ipython3",
   "version": "3.11.5"
  }
 },
 "nbformat": 4,
 "nbformat_minor": 5
}
